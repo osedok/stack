{
 "cells": [
  {
   "attachments": {},
   "cell_type": "markdown",
   "id": "1a0751f9",
   "metadata": {},
   "source": [
    "A librarian needs to look at the details of books returned in a day in order to analyse library use and identify the most sought-after genre of books. The details can be the date and time the book was returned or any others you wish to use. Help the librarian by looking at the book return details in the reverse order with the help of stacks."
   ]
  },
  {
   "cell_type": "code",
   "execution_count": 1,
   "id": "51c249b5",
   "metadata": {},
   "outputs": [],
   "source": [
    "class Stack():\n",
    "    # Class Stack, contains 2 objects empty list s and integer tail storing the index of the last object.\n",
    "    # Initially the tail value is set to -1 and if this is the case it also means the stack is empty \n",
    "   \n",
    "    s = []\n",
    "    tail = -1\n",
    "    \n",
    "    # Initialise the Stack and set the tail value to -1, empty the list\n",
    "    def __init__(self):\n",
    "        self.s = []\n",
    "        self.tail = -1\n",
    "    \n",
    "    # Checking if tail is equal to -1, if so that means the stack is empty, so the function will return the TRUE\n",
    "    # as an effect of the comparison self.tail == -1\n",
    "    def isEmpty(self):\n",
    "        return self.tail == -1\n",
    "    \n",
    "    # Push function - allows addition of the objects to the stack. The tail value is updated accordingly by adding 1\n",
    "    # to the last index of the stack.\n",
    "    def push(self,value):\n",
    "        self.s.append(value)  \n",
    "        self.tail += 1\n",
    "        \n",
    "    # Top function of the stack object is returning the last added object without reoving it from the stack.   \n",
    "    # Before returning the last added object the stack is checked if is not empty.\n",
    "    def top(self):\n",
    "        if not self.isEmpty():\n",
    "            return self.s[self.tail]\n",
    "        \n",
    "    # Checking if stack is not empty, if so reducing the tail value (current index) by 1 and \n",
    "    # returning and removing the last element from the stack     \n",
    "    def pop(self):\n",
    "        if not self.isEmpty():\n",
    "            self.tail -= 1\n",
    "            return self.s.pop()"
   ]
  },
  {
   "cell_type": "code",
   "execution_count": 2,
   "id": "33376e06",
   "metadata": {},
   "outputs": [],
   "source": [
    "# Definition of class Book - this will be our model\n",
    "class Book():\n",
    "    def __init__(self, title, genre, time_returned):\n",
    "        self.title = title\n",
    "        self.genre = genre\n",
    "        self.date_returned = time_returned"
   ]
  },
  {
   "cell_type": "code",
   "execution_count": 3,
   "id": "fa57823a",
   "metadata": {},
   "outputs": [],
   "source": [
    "from datetime import datetime \n",
    "# We initialise the stack here and add couple of entries in a form of Book object (These are books returned)\n",
    "# The 'Act of Oblivion' is the first book returned and the 'Why Beiing Too Much...' is the last returned that day\n",
    "s = Stack()\n",
    "s.push(Book('Why Being Too Much Is Exactly Enough', 'Comedy', datetime.now()))\n",
    "s.push(Book('Before & Laughter', 'Comedy', datetime.now()))\n",
    "s.push(Book('The perfect son', 'Drama', datetime.now()))\n",
    "s.push(Book('The railway murders', 'Crime', datetime.now()))\n",
    "s.push(Book('The biullet that missed','Crime', datetime.now()))\n",
    "s.push(Book('Act of Oblivion','Crime', datetime.now()))"
   ]
  },
  {
   "cell_type": "code",
   "execution_count": 4,
   "id": "a6d527d5",
   "metadata": {},
   "outputs": [
    {
     "name": "stdout",
     "output_type": "stream",
     "text": [
      "Crime\n",
      "{'Crime': 1}\n",
      "Crime\n",
      "{'Crime': 2}\n",
      "Crime\n",
      "{'Crime': 3}\n",
      "Drama\n",
      "{'Crime': 3, 'Drama': 1}\n",
      "Comedy\n",
      "{'Crime': 3, 'Drama': 1, 'Comedy': 1}\n",
      "Comedy\n",
      "{'Crime': 3, 'Drama': 1, 'Comedy': 2}\n"
     ]
    }
   ],
   "source": [
    "# This function is used to analyse the stack of returned books. We provide and argument in form of stack.\n",
    "# To find the most sought genre we initiate the empty disctionary called genre_total\n",
    "# Using the while loop until the stack is empty we pop() the stack item and assign it to the book variable inside\n",
    "# the while loop. \n",
    "def analyse_returned_books(stack):\n",
    "    genre_total = {}\n",
    "    while not (stack.isEmpty()):\n",
    "        book = stack.pop()\n",
    "        # We check if current book genre is already in the dictionary, if so we increment its count\n",
    "        if book.genre in genre_total:\n",
    "            genre_total[book.genre] += 1\n",
    "        # Otherwise, if the book is not yet in the dictionary, we add it and assign its count to 1    \n",
    "        else:\n",
    "            genre_total[book.genre] = 1\n",
    "            \n",
    "        # Usuing the print foonction we can observe how the function is getting executed    \n",
    "        print(book.genre) \n",
    "        print(genre_total)\n",
    "          \n",
    "    # Finaly we retrn the max value from the genre_total dictionary\n",
    "    return max(genre_total, key=genre_total.get)\n",
    "\n",
    "# We execute the function and assign the result to the variable most_sought_after_genre\n",
    "most_sought_after_genre = analyse_returned_books(s)\n"
   ]
  },
  {
   "cell_type": "code",
   "execution_count": 5,
   "id": "65184d4f",
   "metadata": {},
   "outputs": [
    {
     "name": "stdout",
     "output_type": "stream",
     "text": [
      "The most sought after genre in the library is: Crime\n"
     ]
    }
   ],
   "source": [
    "# And finaly we print the result to the end user\n",
    "print(\"The most sought after genre in the library is: \"+ most_sought_after_genre)"
   ]
  }
 ],
 "metadata": {
  "kernelspec": {
   "display_name": "Python 3 (ipykernel)",
   "language": "python",
   "name": "python3"
  },
  "language_info": {
   "codemirror_mode": {
    "name": "ipython",
    "version": 3
   },
   "file_extension": ".py",
   "mimetype": "text/x-python",
   "name": "python",
   "nbconvert_exporter": "python",
   "pygments_lexer": "ipython3",
   "version": "3.9.7"
  }
 },
 "nbformat": 4,
 "nbformat_minor": 5
}
